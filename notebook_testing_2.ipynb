{
 "cells": [
  {
   "cell_type": "code",
   "execution_count": 10,
   "metadata": {},
   "outputs": [],
   "source": [
    "import time\n",
    "import rasterio\n",
    "import numpy as np\n",
    "import starfm4py as stp\n",
    "import matplotlib.pyplot as plt\n",
    "from parameters import (path, sizeSlices)\n",
    "%matplotlib inline"
   ]
  },
  {
   "cell_type": "code",
   "execution_count": 11,
   "metadata": {},
   "outputs": [
    {
     "name": "stderr",
     "output_type": "stream",
     "text": [
      "/home/gpetr/anaconda3/envs/fusion/lib/python3.7/site-packages/rasterio/__init__.py:219: NotGeoreferencedWarning: Dataset has no geotransform set. The identity matrix may be returned.\n",
      "  s = DatasetReader(path, driver=driver, sharing=sharing, **kwargs)\n"
     ]
    },
    {
     "name": "stdout",
     "output_type": "stream",
     "text": [
      "Done partitioning!\n",
      "Done stacking!\n"
     ]
    }
   ],
   "source": [
    "start = time.time()\n",
    "\n",
    "#Set the path where the images are stored\n",
    "product = rasterio.open('Tests/Test_1/sim_Landsat_t1.tif')\n",
    "profile = product.profile\n",
    "LandsatT0 = rasterio.open('Tests/Test_1/sim_Landsat_t1.tif').read(1)\n",
    "MODISt0 = rasterio.open('Tests/Test_1/sim_MODIS_t1.tif').read(1)\n",
    "MODISt1 = rasterio.open('Tests/Test_1/sim_MODIS_t2.tif').read(1)\n",
    "\n",
    "# Set the path where to store the temporary results\n",
    "path_fineRes_t0 = 'Temporary/Tiles_fineRes_t0/'\n",
    "path_coarseRes_t0 = 'Temporary/Tiles_coarseRes_t0/'\n",
    "path_coarseRes_t1 = 'Temporary/Tiles_fcoarseRes_t2/'\n",
    "\n",
    "# Flatten and store the moving window patches\n",
    "fine_image_t0_par = stp.partition(LandsatT0, path_fineRes_t0)\n",
    "coarse_image_t0_par = stp.partition(MODISt0, path_coarseRes_t0)\n",
    "coarse_image_t1_par = stp.partition(MODISt1, path_coarseRes_t1)\n",
    "\n",
    "print (\"Done partitioning!\")\n",
    "\n",
    "# Stack the the moving window patches as dask arrays\n",
    "S2_t0 = stp.da_stack(path_fineRes_t0, LandsatT0.shape)\n",
    "S3_t0 = stp.da_stack(path_coarseRes_t0, MODISt0.shape)\n",
    "S3_t1 = stp.da_stack(path_coarseRes_t1, MODISt1.shape)\n",
    "\n",
    "shape = (sizeSlices, LandsatT0.shape[1])\n",
    "\n",
    "print (\"Done stacking!\")"
   ]
  },
  {
   "cell_type": "code",
   "execution_count": 12,
   "metadata": {},
   "outputs": [
    {
     "data": {
      "text/plain": [
       "(150, 150)"
      ]
     },
     "execution_count": 12,
     "metadata": {},
     "output_type": "execute_result"
    }
   ],
   "source": [
    "shape"
   ]
  },
  {
   "cell_type": "code",
   "execution_count": 13,
   "metadata": {},
   "outputs": [
    {
     "name": "stdout",
     "output_type": "stream",
     "text": [
      "(150, 150)\n"
     ]
    },
    {
     "data": {
      "image/png": "[encoded data removed]",
      "text/plain": [
       "<Figure size 432x288 with 2 Axes>"
      ]
     },
     "metadata": {
      "needs_background": "light"
     },
     "output_type": "display_data"
    }
   ],
   "source": [
    "print(LandsatT0.shape)\n",
    "plt.imshow(LandsatT0)\n",
    "plt.colorbar()\n",
    "plt.show()"
   ]
  },
  {
   "cell_type": "code",
   "execution_count": 14,
   "metadata": {},
   "outputs": [
    {
     "name": "stdout",
     "output_type": "stream",
     "text": [
      "(150, 150)\n"
     ]
    },
    {
     "data": {
      "image/png": "[encoded data removed]",
      "text/plain": [
       "<Figure size 432x288 with 2 Axes>"
      ]
     },
     "metadata": {
      "needs_background": "light"
     },
     "output_type": "display_data"
    }
   ],
   "source": [
    "print(MODISt0.shape)\n",
    "plt.imshow(MODISt0)\n",
    "plt.colorbar()\n",
    "plt.show()"
   ]
  },
  {
   "cell_type": "code",
   "execution_count": 15,
   "metadata": {},
   "outputs": [
    {
     "name": "stdout",
     "output_type": "stream",
     "text": [
      "(150, 150)\n"
     ]
    },
    {
     "data": {
      "image/png": "[encoded data removed]",
      "text/plain": [
       "<Figure size 432x288 with 2 Axes>"
      ]
     },
     "metadata": {
      "needs_background": "light"
     },
     "output_type": "display_data"
    }
   ],
   "source": [
    "print(MODISt1.shape)\n",
    "plt.imshow(MODISt1)\n",
    "plt.colorbar()\n",
    "plt.show()"
   ]
  },
  {
   "cell_type": "code",
   "execution_count": 16,
   "metadata": {},
   "outputs": [
    {
     "name": "stdout",
     "output_type": "stream",
     "text": [
      "(22500, 961) (22500, 961) (22500, 961)\n",
      "Processing...\n",
      "Done spectral distance! dask.array<truediv, shape=(22500, 961), dtype=float64, chunksize=(150, 961), chunktype=numpy.ndarray>\n",
      "Done temporal distance! dask.array<truediv, shape=(22500, 961), dtype=float64, chunksize=(150, 961), chunktype=numpy.ndarray>\n",
      "Done spatial distance! dask.array<array, shape=(961,), dtype=float64, chunksize=(961,), chunktype=numpy.ndarray>\n",
      "Done comb distance! dask.array<mul, shape=(22500, 961), dtype=float64, chunksize=(150, 961), chunktype=numpy.ndarray>\n",
      "Done similarity threshold! dask.array<truediv, shape=(22500,), dtype=float64, chunksize=(150,), chunktype=numpy.ndarray>\n",
      "Done similarity pixels! dask.array<where, shape=(22500, 961), dtype=int64, chunksize=(150, 961), chunktype=numpy.ndarray>\n",
      "Done filtering! dask.array<mul, shape=(22500, 961), dtype=int64, chunksize=(150, 961), chunktype=numpy.ndarray>\n",
      "Done weighting! dask.array<rechunk-merge, shape=(22500, 961), dtype=float64, chunksize=(150, 961), chunktype=numpy.ndarray>\n",
      "Done prediction!\n",
      "[########################################] | 100% Completed |  2.6s\n"
     ]
    }
   ],
   "source": [
    "# Perform the prediction with STARFM\n",
    "for i in range(0, LandsatT0.size-sizeSlices*shape[1]+1, sizeSlices*shape[1]):\n",
    "    \n",
    "    fine_image_t0 = S2_t0[i:i+sizeSlices*shape[1],]\n",
    "    coarse_image_t0 = S3_t0[i:i+sizeSlices*shape[1],]\n",
    "    coarse_image_t1 = S3_t1[i:i+sizeSlices*shape[1],]\n",
    "    print(fine_image_t0.shape, coarse_image_t0.shape, coarse_image_t1.shape)\n",
    "    prediction = stp.starfm(fine_image_t0, coarse_image_t0, coarse_image_t1, profile, shape)\n",
    "    \n",
    "    if i == 0:\n",
    "        predictions = prediction\n",
    "        \n",
    "    else:\n",
    "        predictions = np.append(predictions, prediction, axis=0)"
   ]
  },
  {
   "cell_type": "code",
   "execution_count": 17,
   "metadata": {},
   "outputs": [
    {
     "name": "stdout",
     "output_type": "stream",
     "text": [
      "Writing product...\n",
      "Done in 0.5450969735781351 minutes!\n"
     ]
    },
    {
     "name": "stderr",
     "output_type": "stream",
     "text": [
      "/home/gpetr/anaconda3/envs/fusion/lib/python3.7/site-packages/rasterio/__init__.py:229: NotGeoreferencedWarning: The given matrix is equal to Affine.identity or its flipped counterpart. GDAL may ignore this matrix and save no geotransform without raising an error. This behavior is somewhat driver-specific.\n",
      "  **kwargs)\n"
     ]
    }
   ],
   "source": [
    "# Write the results to a .tif file   \n",
    "print ('Writing product...')\n",
    "profile = product.profile\n",
    "profile.update(dtype='float64', count=1) # number of bands\n",
    "file_name = path + 'prediction.tif'\n",
    "\n",
    "result = rasterio.open(file_name, 'w', **profile)\n",
    "result.write(predictions, 1)\n",
    "result.close()\n",
    "\n",
    "\n",
    "end = time.time()\n",
    "print (\"Done in\", (end - start)/60.0, \"minutes!\")"
   ]
  },
  {
   "cell_type": "code",
   "execution_count": null,
   "metadata": {},
   "outputs": [],
   "source": []
  }
 ],
 "metadata": {
  "kernelspec": {
   "display_name": "Python 3",
   "language": "python",
   "name": "python3"
  },
  "language_info": {
   "codemirror_mode": {
    "name": "ipython",
    "version": 3
   },
   "file_extension": ".py",
   "mimetype": "text/x-python",
   "name": "python",
   "nbconvert_exporter": "python",
   "pygments_lexer": "ipython3",
   "version": "3.7.7"
  }
 },
 "nbformat": 4,
 "nbformat_minor": 2
}
